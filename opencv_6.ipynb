{
 "cells": [
  {
   "cell_type": "code",
   "execution_count": 1,
   "metadata": {},
   "outputs": [],
   "source": [
    "import cv2\n",
    "import numpy as np\n",
    "\n",
    "kernel = np.array([-1,-1,0,-1,0, 1, 0, 1, 1]).reshape(3,3)\n",
    "img = cv2.imread('b.jpg', 0)\n",
    "dst = cv2.filter2D(img, -1, kernel, None, (-1,-1), 128)\n",
    "cv2.imshow('img', img)\n",
    "cv2.imshow('dst', dst)\n",
    "cv2.waitKey(0)\n",
    "cv2.destroyAllWindows()"
   ]
  },
  {
   "cell_type": "code",
   "execution_count": null,
   "metadata": {},
   "outputs": [],
   "source": [
    "#커널 생성 예\n",
    "size = 5\n",
    "kernel = np.zeros((size, size))\n",
    "kernel[int((size-1)/2), :]=np.ones(size)\n",
    "kernel/size"
   ]
  },
  {
   "cell_type": "code",
   "execution_count": null,
   "metadata": {},
   "outputs": [],
   "source": [
    "size = 5\n",
    "kernel = np.zeros((size, size))\n",
    "kernel[int((size-1)/2), :]=np.ones(size)\n",
    "kernel = kernel/size\n",
    "\n",
    "img = cv2.imread('a.jpg', 0)\n",
    "dst = cv2.filter2D(img, -1, kernel)\n",
    "cv2.imshow('img', img)\n",
    "cv2.imshow('dst', dst)\n",
    "cv2.waitKey(0)\n",
    "cv2.destroyAllWindows()"
   ]
  },
  {
   "cell_type": "markdown",
   "metadata": {},
   "source": [
    "<블러링>  \n",
    "영상을 부드럽게 만드는 필터링. 여러 종류 있음  \n",
    "\n",
    "평균값 필터  \n",
    "주변 픽셀값의 평균값으로 필터링  \n",
    "kernel =  \n",
    "1 / (33) [[1, 1, 1],  \n",
    "[1, 1, 1],  \n",
    "[1, 1, 1]]  "
   ]
  },
  {
   "cell_type": "code",
   "execution_count": 2,
   "metadata": {},
   "outputs": [],
   "source": [
    "img = cv2.imread('b.jpg', 0)\n",
    "k = 3   #커널 크기가 커질수록 뭉개짐이 심해짐. 넓은 영역의 커널로 계산하기 때문에 더 심해짐.\n",
    "kernel = np.ones((k,k))/(k*k)\n",
    "dst = cv2.filter2D(img, -1, kernel)\n",
    "cv2.imshow('img', img)\n",
    "cv2.imshow('dst', dst)\n",
    "cv2.waitKey(0)\n",
    "cv2.destroyAllWindows()"
   ]
  },
  {
   "cell_type": "markdown",
   "metadata": {},
   "source": [
    "- 블러링 opencv 함수\n",
    "\n",
    "평균값 필터 함수: cv2.blur(img, kernelSize)"
   ]
  },
  {
   "cell_type": "code",
   "execution_count": 3,
   "metadata": {},
   "outputs": [],
   "source": [
    "img = cv2.imread('b.jpg', 0)\n",
    "dst = cv2.blur(img, (3,3))\n",
    "cv2.imshow('img', img)\n",
    "cv2.imshow('dst', dst)\n",
    "cv2.waitKey(0)\n",
    "cv2.destroyAllWindows()"
   ]
  },
  {
   "cell_type": "markdown",
   "metadata": {},
   "source": [
    "- 블러링 opencv 함수\n",
    "\n",
    "가우시안 필터링: 가우시안 분포 함수를 근사하여 생성한 커널로 필터링.  \n",
    "평균값 필터보다 자연스럽게 처리함  \n",
    "\n",
    "cv2.GaussianBlur(img, ksize, sigmaX)  \n",
    "ksize(w, h): 커널 크기  \n",
    "sigmaX: x방향 가우시안 커널 표준 편차  "
   ]
  },
  {
   "cell_type": "code",
   "execution_count": 4,
   "metadata": {},
   "outputs": [],
   "source": [
    "img = cv2.imread('b.jpg', 0)\n",
    "cv2.imshow('img', img)\n",
    "\n",
    "for i in range(1, 6):\n",
    "    dst = cv2.GaussianBlur(img, (5,5), i)\n",
    "    cv2.imshow('dst'+str(i), dst)\n",
    "\n",
    "cv2.waitKey(0)\n",
    "cv2.destroyAllWindows()"
   ]
  },
  {
   "cell_type": "markdown",
   "metadata": {},
   "source": [
    "<샤프닝>  \n",
    "영상의 윤곽을 뚜렷하고 선명하게 하는 필터링.  \n",
    "언샤프닝: 샤프닝을 위해서는 블러링된 영상 사용  \n",
    "![](6.png)\n",
    "\n",
    "첫 번째 그래프는 원본 이미지, 두 번째 그래프는 블러링한 이미지이다. 블러링으로 윤곽이 무뎌졌다. 이 부분의 차를 구한 것이 세번째 그래프이고 이 차를 확대해주면 경계선이 더욱 뚜렷해진다."
   ]
  },
  {
   "cell_type": "markdown",
   "metadata": {},
   "source": [
    "- 흑백 이미지 언샤프닝"
   ]
  },
  {
   "cell_type": "code",
   "execution_count": 7,
   "metadata": {},
   "outputs": [],
   "source": [
    "import cv2\n",
    "import numpy as np\n",
    "\n",
    "img = cv2.imread('c.jpg', 0)\n",
    "cv2.imshow('img', img)\n",
    "\n",
    "blr = cv2.GaussianBlur(img, (5,5), 5)\n",
    "dst = np.clip(2.0*img - blr, 0, 255).astype('uint8')\n",
    "\n",
    "cv2.imshow('dst', dst)\n",
    "\n",
    "cv2.waitKey(0)\n",
    "cv2.destroyAllWindows()"
   ]
  },
  {
   "cell_type": "markdown",
   "metadata": {},
   "source": [
    "- 칼라 이미지 언샤프닝"
   ]
  },
  {
   "cell_type": "code",
   "execution_count": 6,
   "metadata": {},
   "outputs": [],
   "source": [
    "import cv2\n",
    "import numpy as np\n",
    "\n",
    "img = cv2.imread('c.jpg')\n",
    "cv2.imshow('img', img)\n",
    "\n",
    "blr = cv2.GaussianBlur(img, (5,5), 5)\n",
    "dst = np.clip(2.0*img - blr, 0, 255).astype('uint8')\n",
    "\n",
    "cv2.imshow('dst', dst)\n",
    "\n",
    "cv2.waitKey(0)\n",
    "cv2.destroyAllWindows()"
   ]
  },
  {
   "cell_type": "markdown",
   "metadata": {},
   "source": [
    "<잡음 제거 필터링>\n",
    "\n",
    "- 잡음 생성  \n",
    "  가우시안 난수 함수로 잡음 생성  \n",
    "  cv2.randn(난수담을 배열, 가우시안 분포 평균, 가우시안 분포 표준 편차)"
   ]
  },
  {
   "cell_type": "code",
   "execution_count": 11,
   "metadata": {},
   "outputs": [],
   "source": [
    "img = cv2.imread('c.jpg')\n",
    "\n",
    "x = img.copy()  #노이즈 생성할 배열. 이미지와 동일 모양\n",
    "x = x.astype('int8')  #부호있는 타입으로 변환\n",
    "cv2.randn(x, 0, 0.2)   #가우시안 난수 생성하여 배열 x에 담음\n",
    "x = x.astype('uint8')  #이미지 타입으로 변환\n",
    "y = cv2.add(img, x)    #원본 이미지와 노이즈 합성\n",
    "\n",
    "cv2.imshow('img', y)\n",
    "\n",
    "cv2.waitKey(0)\n",
    "cv2.destroyAllWindows()"
   ]
  },
  {
   "cell_type": "markdown",
   "metadata": {},
   "source": [
    "- 잡음제거 opencv 함수\n",
    "\n",
    "앞에서 살펴본 가우시안블러 함수로 노이즈를 제거할 수 있지만 경계선도 흐릿해진다.   이를 보완해서 노이즈는 흐리게하고 경계선은 명확하게 하는 블러링 방법이 양방향 필터링이다\n",
    "\n",
    "cv2.bilateralFilter(src, d, sigmaColor, sigmaSpace, borderType)  \n",
    "src – image  \n",
    "d – filtering시 고려할 주변 pixel 지름  \n",
    "sigmaColor – 색 공간 표준편차.  \n",
    "sigmaSpace – 좌표 공간 표준편차.  "
   ]
  },
  {
   "cell_type": "code",
   "execution_count": 12,
   "metadata": {},
   "outputs": [],
   "source": [
    "dst = cv2.bilateralFilter(y, 9, 100, 100)\n",
    "#dst = cv2.GaussianBlur(y, (5,5), 2) # 블러도 가능하지만 경계가 무너짐\n",
    "cv2.imshow('img', y)\n",
    "cv2.imshow('img2', dst)\n",
    "cv2.waitKey(0)\n",
    "cv2.destroyAllWindows()"
   ]
  },
  {
   "cell_type": "markdown",
   "metadata": {},
   "source": [
    "잡음이 소금과 후추처럼 도드라진 점을 제거하는 것은 미디언 필더가 더 효과적이다. 이 필터는 커널의 값들을 정렬하여 중간값을 앵커로 지정한여 연산하는 필터링이다.  \n",
    "\n",
    "cv2.medianBlur(img, ksize)  \n",
    "ksize: 커널크기"
   ]
  },
  {
   "cell_type": "code",
   "execution_count": 13,
   "metadata": {},
   "outputs": [],
   "source": [
    "dst = cv2.medianBlur(y, 3)\n",
    "cv2.imshow('img', y)\n",
    "cv2.imshow('dst', dst)\n",
    "cv2.waitKey()\n",
    "\n",
    "cv2.destroyAllWindows()"
   ]
  },
  {
   "cell_type": "markdown",
   "metadata": {},
   "source": [
    "medianBlur 함수로 구현하기"
   ]
  },
  {
   "cell_type": "code",
   "execution_count": null,
   "metadata": {},
   "outputs": [],
   "source": []
  },
  {
   "cell_type": "code",
   "execution_count": null,
   "metadata": {},
   "outputs": [],
   "source": []
  },
  {
   "cell_type": "code",
   "execution_count": null,
   "metadata": {},
   "outputs": [],
   "source": []
  },
  {
   "cell_type": "code",
   "execution_count": null,
   "metadata": {},
   "outputs": [],
   "source": []
  },
  {
   "cell_type": "code",
   "execution_count": null,
   "metadata": {},
   "outputs": [],
   "source": []
  },
  {
   "cell_type": "code",
   "execution_count": null,
   "metadata": {},
   "outputs": [],
   "source": []
  },
  {
   "cell_type": "code",
   "execution_count": null,
   "metadata": {},
   "outputs": [],
   "source": []
  },
  {
   "cell_type": "code",
   "execution_count": null,
   "metadata": {},
   "outputs": [],
   "source": []
  },
  {
   "cell_type": "code",
   "execution_count": null,
   "metadata": {},
   "outputs": [],
   "source": []
  },
  {
   "cell_type": "code",
   "execution_count": null,
   "metadata": {},
   "outputs": [],
   "source": []
  },
  {
   "cell_type": "code",
   "execution_count": null,
   "metadata": {},
   "outputs": [],
   "source": []
  },
  {
   "cell_type": "code",
   "execution_count": null,
   "metadata": {},
   "outputs": [],
   "source": []
  },
  {
   "cell_type": "code",
   "execution_count": null,
   "metadata": {},
   "outputs": [],
   "source": []
  },
  {
   "cell_type": "code",
   "execution_count": null,
   "metadata": {},
   "outputs": [],
   "source": []
  },
  {
   "cell_type": "code",
   "execution_count": null,
   "metadata": {},
   "outputs": [],
   "source": []
  },
  {
   "cell_type": "code",
   "execution_count": null,
   "metadata": {},
   "outputs": [],
   "source": []
  },
  {
   "cell_type": "code",
   "execution_count": null,
   "metadata": {},
   "outputs": [],
   "source": []
  },
  {
   "cell_type": "code",
   "execution_count": null,
   "metadata": {},
   "outputs": [],
   "source": []
  },
  {
   "cell_type": "code",
   "execution_count": null,
   "metadata": {},
   "outputs": [],
   "source": []
  },
  {
   "cell_type": "code",
   "execution_count": null,
   "metadata": {},
   "outputs": [],
   "source": []
  },
  {
   "cell_type": "code",
   "execution_count": null,
   "metadata": {},
   "outputs": [],
   "source": []
  },
  {
   "cell_type": "code",
   "execution_count": null,
   "metadata": {},
   "outputs": [],
   "source": []
  },
  {
   "cell_type": "code",
   "execution_count": null,
   "metadata": {},
   "outputs": [],
   "source": []
  },
  {
   "cell_type": "code",
   "execution_count": null,
   "metadata": {},
   "outputs": [],
   "source": []
  },
  {
   "cell_type": "code",
   "execution_count": null,
   "metadata": {},
   "outputs": [],
   "source": []
  },
  {
   "cell_type": "code",
   "execution_count": null,
   "metadata": {},
   "outputs": [],
   "source": []
  },
  {
   "cell_type": "code",
   "execution_count": null,
   "metadata": {},
   "outputs": [],
   "source": []
  },
  {
   "cell_type": "code",
   "execution_count": null,
   "metadata": {},
   "outputs": [],
   "source": []
  },
  {
   "cell_type": "code",
   "execution_count": null,
   "metadata": {},
   "outputs": [],
   "source": []
  }
 ],
 "metadata": {
  "kernelspec": {
   "display_name": "Python 3",
   "language": "python",
   "name": "python3"
  },
  "language_info": {
   "codemirror_mode": {
    "name": "ipython",
    "version": 3
   },
   "file_extension": ".py",
   "mimetype": "text/x-python",
   "name": "python",
   "nbconvert_exporter": "python",
   "pygments_lexer": "ipython3",
   "version": "3.8.3"
  }
 },
 "nbformat": 4,
 "nbformat_minor": 4
}
