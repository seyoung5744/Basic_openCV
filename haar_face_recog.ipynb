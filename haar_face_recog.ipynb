{
 "cells": [
  {
   "cell_type": "code",
   "execution_count": 1,
   "metadata": {},
   "outputs": [],
   "source": [
    "#pip install opencv-contrib-python --user\n",
    "\n",
    "import cv2\n",
    "import os\n",
    "import numpy as np\n",
    "import pdb\n",
    "\n",
    "def face_recog_train():\n",
    "    dataset_path = 'dataset/'\n",
    "    dirs = os.listdir(dataset_path)#dataset 하위 디렉토리 이름을 리스트에 저장\n",
    "    persons = []\n",
    "    for dir in dirs: #각 디렉토리에 저장된 파일명들을 persons에 담음\n",
    "        if os.path.isdir(dataset_path+dir):\n",
    "            files = os.listdir(dataset_path+dir)\n",
    "            for idx, f in enumerate(files):\n",
    "                files[idx] = dataset_path+dir+'/'+f\n",
    "            persons.append(files)\n",
    "    #print(persons)\n",
    "    \n",
    "    classifiers = cv2.CascadeClassifier('haar/haarcascade_frontalface_alt2.xml') # 얼굴 분류기\n",
    "    recognizer = cv2.face.LBPHFaceRecognizer_create() # 얼굴 인식기\n",
    "    samples = []\n",
    "    ids = []\n",
    "    #학습할 얼굴 샘플링\n",
    "    for id, row in enumerate(persons): # id:0, 정우성 사진들 / id:1. 이나영 사진들\n",
    "        for p in row:\n",
    "            img = cv2.imread(p)\n",
    "            print(p)\n",
    "            gray = cv2.cvtColor(img, cv2.COLOR_BGR2GRAY)\n",
    "            face = classifiers.detectMultiScale(\n",
    "                gray,\n",
    "                scaleFactor=1.2,\n",
    "                minNeighbors=5,\n",
    "                minSize=(20, 20)\n",
    "            )\n",
    "            for (x,y,w,h) in face:\n",
    "                samples.append(gray[y:y+h, x:x+w])\n",
    "                ids.append(id)\n",
    "\n",
    "    recognizer.train(samples, np.array(ids))\n",
    "    recognizer.write('trainer.yml')\n",
    "    print('얼굴 학습 완료')"
   ]
  },
  {
   "cell_type": "code",
   "execution_count": 2,
   "metadata": {},
   "outputs": [
    {
     "name": "stdout",
     "output_type": "stream",
     "text": [
      "dataset/p1/AnyConv.com__1.jpg\n",
      "dataset/p1/AnyConv.com__10.jpg\n",
      "dataset/p1/AnyConv.com__2.jpg\n",
      "dataset/p1/AnyConv.com__3.jpg\n",
      "dataset/p1/AnyConv.com__4.jpg\n",
      "dataset/p1/AnyConv.com__6.jpg\n",
      "dataset/p1/AnyConv.com__7.jpg\n",
      "dataset/p1/AnyConv.com__8.jpg\n",
      "dataset/p1/AnyConv.com__9.jpg\n",
      "dataset/p2/AnyConv.com__1.jpg\n",
      "dataset/p2/AnyConv.com__10.jpg\n",
      "dataset/p2/AnyConv.com__2.jpg\n",
      "dataset/p2/AnyConv.com__3.jpg\n",
      "dataset/p2/AnyConv.com__4.jpg\n",
      "dataset/p2/AnyConv.com__5.jpg\n",
      "dataset/p2/AnyConv.com__6.jpg\n",
      "dataset/p2/AnyConv.com__7.jpg\n",
      "dataset/p2/AnyConv.com__8.jpg\n",
      "dataset/p2/AnyConv.com__9.jpg\n",
      "얼굴 학습 완료\n"
     ]
    }
   ],
   "source": [
    "face_recog_train()\n"
   ]
  },
  {
   "cell_type": "code",
   "execution_count": 3,
   "metadata": {},
   "outputs": [],
   "source": [
    "def face_recog():\n",
    "\n",
    "    classifiers = cv2.CascadeClassifier('haar/haarcascade_frontalface_alt2.xml')\n",
    "    recognizer = cv2.face.LBPHFaceRecognizer_create()\n",
    "    \n",
    "    recognizer.read('trainer.yml')\n",
    "\n",
    "    names=['정우성', '이나영']\n",
    "    img = cv2.imread('dataset/p1/AnyConv.com__4.jpg')\n",
    "    gray = cv2.cvtColor(img, cv2.COLOR_BGR2GRAY)\n",
    "    face = classifiers.detectMultiScale(\n",
    "        gray,\n",
    "        scaleFactor=1.2,\n",
    "        minNeighbors=5,\n",
    "        minSize=(20, 20)\n",
    "    )\n",
    "    res = False\n",
    "    name = 'no face'\n",
    "    for (x, y, w, h) in face:\n",
    "        id, confi = recognizer.predict(gray[y:y+h, x:x+w])\n",
    "        if confi < 50:\n",
    "            name = names[id]\n",
    "            print(name,'/ confidence:', confi)\n",
    "            res = True\n",
    "        else:\n",
    "            name = 'unknown'\n",
    "            res = False\n",
    "\n",
    "    return res, name\n"
   ]
  },
  {
   "cell_type": "code",
   "execution_count": 4,
   "metadata": {},
   "outputs": [
    {
     "name": "stdout",
     "output_type": "stream",
     "text": [
      "정우성 / confidence: 0.0\n"
     ]
    },
    {
     "data": {
      "text/plain": [
       "(True, '정우성')"
      ]
     },
     "execution_count": 4,
     "metadata": {},
     "output_type": "execute_result"
    }
   ],
   "source": [
    "face_recog()"
   ]
  },
  {
   "cell_type": "code",
   "execution_count": null,
   "metadata": {},
   "outputs": [],
   "source": []
  }
 ],
 "metadata": {
  "kernelspec": {
   "display_name": "Python 3",
   "language": "python",
   "name": "python3"
  },
  "language_info": {
   "codemirror_mode": {
    "name": "ipython",
    "version": 3
   },
   "file_extension": ".py",
   "mimetype": "text/x-python",
   "name": "python",
   "nbconvert_exporter": "python",
   "pygments_lexer": "ipython3",
   "version": "3.8.5"
  }
 },
 "nbformat": 4,
 "nbformat_minor": 4
}
