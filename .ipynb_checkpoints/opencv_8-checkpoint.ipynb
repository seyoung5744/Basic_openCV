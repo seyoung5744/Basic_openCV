{
 "cells": [
  {
   "cell_type": "code",
   "execution_count": 8,
   "metadata": {},
   "outputs": [],
   "source": [
    "import cv2\n",
    "\n",
    "nc = cv2.imread('namecard1.png', 0)\n",
    "nc_cp = nc.copy()\n",
    "\n",
    "#이미지 이진화\n",
    "nc_cp[nc_cp[:]<200]=0\n",
    "nc_cp[nc_cp[:]!=0]=255\n",
    "\n",
    "h, w = nc_cp.shape[:2]\n",
    "\n",
    "pts = []\n",
    "\n",
    "#엣지 추출\n",
    "for i in range(0, h):\n",
    "    for j in range(0, w-1):\n",
    "        if nc_cp[i][j]==0 and nc_cp[i][j+1]==255:\n",
    "            pts.append([j, i])\n",
    "            cv2.circle(nc_cp, (j, i), 2, 128, -1)\n",
    "            \n",
    "        if nc_cp[i][j]==255 and nc_cp[i][j+1]==0:\n",
    "            pts.append([j, i])\n",
    "            cv2.circle(nc_cp, (j, i), 2, 128, -1)\n",
    "            \n",
    "pts = np.array(pts)\n",
    "x = pts[:, 0]\n",
    "y = pts[:, 1]\n",
    "            \n",
    "y_min = y.min()\n",
    "x_min = x.min()\n",
    "x_max = x.max()\n",
    "            \n",
    "p1 = pts[pts[:, 1]==y_min]\n",
    "p2 = pts[pts[:, 0]==x_min]\n",
    "p3 = pts[pts[:, 0]==x_max]\n",
    "\n",
    "cv2.circle(nc, (p1[len(p1)-1][0], p1[len(p1)-1][1]), 5, 128, -1)\n",
    "cv2.circle(nc, (p2[len(p2)-1][0], p2[len(p2)-1][1]), 5, 128, -1)\n",
    "cv2.circle(nc, (p3[len(p3)-1][0], p3[len(p3)-1][1]), 5, 128, -1)\n",
    "\n",
    "cv2.imshow('nc', nc)\n",
    "cv2.imshow('nc_cp', nc_cp)\n",
    "cv2.cv2.waitKey(0)\n",
    "cv2.destroyAllWindows()"
   ]
  },
  {
   "cell_type": "code",
   "execution_count": 1,
   "metadata": {},
   "outputs": [],
   "source": [
    " import numpy as np\n",
    "import cv2\n",
    "\n",
    "src = cv2.imread('c.jpg', cv2.IMREAD_GRAYSCALE)\n",
    "\n",
    "dx = cv2.Sobel(src, cv2.CV_32F, 1, 0) # cv2.CV_32F : 결과물에 대한 타입\n",
    "dy = cv2.Sobel(src, cv2.CV_32F, 0, 1)\n",
    "\n",
    "mag = cv2.magnitude(dx, dy)\n",
    "mag = np.clip(mag, 0, 255).astype(np.uint8)\n",
    "\n",
    "dst = np.zeros(src.shape[:2], np.uint8)\n",
    "dst[mag > 120] = 255\n",
    "#_, dst = cv2.threshold(mag, 120, 255, cv2.THRESH_BINARY)\n",
    "\n",
    "cv2.imshow('src', src)\n",
    "cv2.imshow('mag', mag)\n",
    "cv2.imshow('dst', dst)\n",
    "cv2.waitKey()\n",
    "\n",
    "cv2.destroyAllWindows()"
   ]
  },
  {
   "cell_type": "code",
   "execution_count": 2,
   "metadata": {},
   "outputs": [],
   "source": [
    "import numpy as np\n",
    "import cv2\n",
    "\n",
    "\n",
    "src = cv2.imread('building.jpg', cv2.IMREAD_GRAYSCALE)\n",
    "\n",
    "dst = cv2.Canny(src, 50, 150)\n",
    "\n",
    "cv2.imshow('src', src)\n",
    "cv2.imshow('dst', dst)\n",
    "cv2.waitKey()\n",
    "\n",
    "cv2.destroyAllWindows()"
   ]
  },
  {
   "cell_type": "code",
   "execution_count": null,
   "metadata": {},
   "outputs": [],
   "source": []
  },
  {
   "cell_type": "markdown",
   "metadata": {},
   "source": [
    "카메라 입력 받아  \n",
    "동영상을 애니메이션 효과주기  \n",
    "기본 영상에 불러 효과를 많이 주어 전체 화면을 수채화처럼 뭉개주고  \n",
    "엣지 검출한 것을 합성하여 테두리는 하얀 경계를 그려준 효과로 영상이 나오게 하시오 "
   ]
  },
  {
   "cell_type": "code",
   "execution_count": null,
   "metadata": {},
   "outputs": [],
   "source": [
    "import cv2\n",
    "cap = cv2.VideoCapture(0)#카메라 오픈\n",
    "\n",
    "cap.set(3, 300) \n",
    "cap.set(4, 200)\n",
    "while True:\n",
    "    ret, frame = cap.read() \n",
    "    if ret: #정상 읽기일 때만        \n",
    "        blr = cv2.blur(frame, (9,9))#이미지 블러처리 - 배경\n",
    "        gray = cv2.cvtColor(frame, cv2.COLOR_BGR2GRAY)#컬러를 그레이 스케일로 변환\n",
    "        gray_e = cv2.Canny(gray, 50, 150)#에지 추출한 결과 이미지 생성\n",
    "        mask = cv2.bitwise_not(gray_e)\n",
    "        dst = cv2.bitwise_and(blr, blr, mask=mask)\n",
    "        cv2.imshow('img', dst) #영상을 윈도우에 출력\n",
    "        k = cv2.waitKey(1)\n",
    "    if k==27: #입력한 키가 esc이면\n",
    "        break\n",
    "cap.release()\n",
    "cv2.destroyAllWindows()"
   ]
  },
  {
   "cell_type": "code",
   "execution_count": 3,
   "metadata": {},
   "outputs": [],
   "source": [
    "import numpy as np\n",
    "import cv2\n",
    "\n",
    "\n",
    "src = cv2.imread('building.jpg', cv2.IMREAD_GRAYSCALE)\n",
    "\n",
    "edges = cv2.Canny(src, 50, 150)\n",
    "\n",
    "lines = cv2.HoughLinesP(edges, 1, np.pi / 180., 160,\n",
    "                        minLineLength=50, maxLineGap=5)\n",
    "\n",
    "dst = cv2.cvtColor(edges, cv2.COLOR_GRAY2BGR)\n",
    "\n",
    "if lines is not None:\n",
    "    for i in range(lines.shape[0]):\n",
    "        pt1 = (lines[i][0][0], lines[i][0][1])  # 시작점 좌표\n",
    "        pt2 = (lines[i][0][2], lines[i][0][3])  # 끝점 좌표\n",
    "        cv2.line(dst, pt1, pt2, (0, 0, 255), 2, cv2.LINE_AA)\n",
    "\n",
    "cv2.imshow('src', src)\n",
    "cv2.imshow('dst', dst)\n",
    "cv2.waitKey()\n",
    "cv2.destroyAllWindows()"
   ]
  },
  {
   "cell_type": "code",
   "execution_count": 7,
   "metadata": {},
   "outputs": [
    {
     "name": "stderr",
     "output_type": "stream",
     "text": [
      "<ipython-input-7-da0963c5707a>:17: DeprecationWarning: an integer is required (got type numpy.float32).  Implicit conversion to integers using __int__ is deprecated, and may be removed in a future version of Python.\n",
      "  cv2.circle(dst, (cx, cy), int(radius), (0, 0, 255), 2, cv2.LINE_AA)\n"
     ]
    }
   ],
   "source": [
    "import numpy as np\n",
    "import cv2\n",
    "\n",
    "src = cv2.imread('dial.jpg')\n",
    "\n",
    "gray = cv2.cvtColor(src, cv2.COLOR_BGR2GRAY)\n",
    "blr = cv2.GaussianBlur(gray, (0, 0), 1.0)\n",
    "\n",
    "# 수치 조절로 추출될 원을 정할 수 있음.\n",
    "circles = cv2.HoughCircles(blr, cv2.HOUGH_GRADIENT, 1, 50,\n",
    "                           param1=150, param2=40, minRadius=20, maxRadius=80)\n",
    "\n",
    "dst = src.copy()\n",
    "\n",
    "if circles is not None:\n",
    "    for i in range(circles.shape[1]):\n",
    "        cx, cy, radius = circles[0][i]\n",
    "        cv2.circle(dst, (cx, cy), int(radius), (0, 0, 255), 2, cv2.LINE_AA)\n",
    "\n",
    "cv2.imshow('src', src)\n",
    "cv2.imshow('dst', dst)\n",
    "cv2.waitKey()\n",
    "\n",
    "cv2.destroyAllWindows()"
   ]
  },
  {
   "cell_type": "markdown",
   "metadata": {},
   "source": [
    "### 명함 추출 프로그램을 케니 엣지와 허브 변환으로 변경해보기"
   ]
  },
  {
   "cell_type": "code",
   "execution_count": 9,
   "metadata": {},
   "outputs": [
    {
     "ename": "SyntaxError",
     "evalue": "invalid syntax (<ipython-input-9-4cd74b6ce487>, line 1)",
     "output_type": "error",
     "traceback": [
      "\u001b[1;36m  File \u001b[1;32m\"<ipython-input-9-4cd74b6ce487>\"\u001b[1;36m, line \u001b[1;32m1\u001b[0m\n\u001b[1;33m    <1. 명함에지>\u001b[0m\n\u001b[1;37m    ^\u001b[0m\n\u001b[1;31mSyntaxError\u001b[0m\u001b[1;31m:\u001b[0m invalid syntax\n"
     ]
    }
   ],
   "source": [
    "# 1. 명함에지\n",
    "import math\n",
    "src = cv2.imread('namecard1.png', cv2.IMREAD_GRAYSCALE)\n",
    "\n",
    "edges = cv2.Canny(src, 50, 150)\n",
    "\n",
    "lines = cv2.HoughLinesP(edges, 1, np.pi / 180., 50,\n",
    "                        minLineLength=100, maxLineGap=5)\n",
    "\n",
    "dst = cv2.cvtColor(edges, cv2.COLOR_GRAY2BGR)\n",
    "\n",
    "if lines is not None:\n",
    "    for i in range(lines.shape[0]):\n",
    "        pt1 = (lines[i][0][0], lines[i][0][1])  # 시작점 좌표\n",
    "        pt2 = (lines[i][0][2], lines[i][0][3])  # 끝점 좌표     \n",
    "        cv2.line(dst, pt1, pt2, (0, 0, 255), 2, cv2.LINE_AA)\n",
    "\n",
    "cv2.imshow('src', src)\n",
    "cv2.imshow('dst', dst)\n",
    "cv2.waitKey()\n",
    "cv2.destroyAllWindows()"
   ]
  },
  {
   "cell_type": "markdown",
   "metadata": {},
   "source": [
    "### 코인 사진에서 허브 변환 사용하여 동전을 추출하고 동전의 종류를 구분하여 총 금액 계산 및 출력 원의 크기로 비교"
   ]
  },
  {
   "cell_type": "code",
   "execution_count": null,
   "metadata": {},
   "outputs": [],
   "source": [
    "# 2. 동전 인식\n",
    "import numpy as np\n",
    "import cv2\n",
    "\n",
    "\n",
    "# 입력 이미지 불러오기\n",
    "src = cv2.imread('coins1.jpg')\n",
    "\n",
    "gray = cv2.cvtColor(src, cv2.COLOR_BGR2GRAY)\n",
    "blr = cv2.GaussianBlur(gray, (0, 0), 1)\n",
    "\n",
    "# 허프 변환 원 검출\n",
    "circles = cv2.HoughCircles(blr, cv2.HOUGH_GRADIENT, 1, 50,\n",
    "                           param1=150, param2=40, minRadius=20, maxRadius=80)\n",
    "\n",
    "# 원 검출 결과 및 동전 금액 출력\n",
    "r = circles[0,:,2]\n",
    "r_mean = np.mean(r)\n",
    "sum_of_money = 0\n",
    "dst = src.copy()\n",
    "if circles is not None:\n",
    "    for i in range(circles.shape[1]):\n",
    "        cx, cy, radius = circles[0][i]\n",
    "        cv2.circle(dst, (cx, cy), int(radius), (0, 0, 255), 2, cv2.LINE_AA)\n",
    "        \n",
    "        won = 10\n",
    "        if radius > r_mean:\n",
    "            won = 100\n",
    "            \n",
    "        cv2.putText(dst, str(won), (int(cx)-15, int(cy)-15), cv2.FONT_HERSHEY_SIMPLEX,\n",
    "                    0.75, (255, 0, 0), 2, cv2.LINE_AA)\n",
    "        \n",
    "        sum_of_money += won\n",
    "\n",
    "        \n",
    "\n",
    "cv2.putText(dst, str(sum_of_money) + ' won', (40, 80),\n",
    "            cv2.FONT_HERSHEY_DUPLEX, 2, (255, 0, 0), 2, cv2.LINE_AA)\n",
    "\n",
    "cv2.imshow('src', src)\n",
    "cv2.imshow('dst', dst)\n",
    "cv2.waitKey()\n",
    "\n",
    "cv2.destroyAllWindows()"
   ]
  },
  {
   "cell_type": "markdown",
   "metadata": {},
   "source": [
    "### 명함 엣지 추출(루프) 코드에서 루프를 numpy 함수로 대체해보기"
   ]
  },
  {
   "cell_type": "code",
   "execution_count": null,
   "metadata": {},
   "outputs": [],
   "source": [
    "# 3. 명함 에지 루프를 numpy diff 함수로 변경\n",
    "import cv2\n",
    "import numpy as np\n",
    "\n",
    "nc2 = cv2.imread('namecard1.png', 0)\n",
    "nc = nc2.copy()\n",
    "nc[nc[:]<200]=0\n",
    "nc[nc[:]!=0]=255\n",
    "#nc.shape#(350, 440)\n",
    "x = np.diff(nc)\n",
    "y = np.where(x==255)\n",
    "z = np.where(x==1)\n",
    "\n",
    "for i in range(0, len(y[0])):\n",
    "    cv2.circle(nc, (y[1][i], y[0][i]), 2, 128,-1)\n",
    "    \n",
    "for i in range(0, len(z[0])):\n",
    "    cv2.circle(nc, (z[1][i], z[0][i]), 2, 128,-1)\n",
    "    \n",
    "cv2.imshow('nc', nc)\n",
    "cv2.waitKey(0)\n",
    "\n",
    "cv2.destroyAllWindows()"
   ]
  },
  {
   "cell_type": "code",
   "execution_count": null,
   "metadata": {},
   "outputs": [],
   "source": []
  },
  {
   "cell_type": "code",
   "execution_count": null,
   "metadata": {},
   "outputs": [],
   "source": []
  },
  {
   "cell_type": "code",
   "execution_count": null,
   "metadata": {},
   "outputs": [],
   "source": []
  },
  {
   "cell_type": "code",
   "execution_count": null,
   "metadata": {},
   "outputs": [],
   "source": []
  },
  {
   "cell_type": "code",
   "execution_count": null,
   "metadata": {},
   "outputs": [],
   "source": []
  }
 ],
 "metadata": {
  "kernelspec": {
   "display_name": "Python 3",
   "language": "python",
   "name": "python3"
  },
  "language_info": {
   "codemirror_mode": {
    "name": "ipython",
    "version": 3
   },
   "file_extension": ".py",
   "mimetype": "text/x-python",
   "name": "python",
   "nbconvert_exporter": "python",
   "pygments_lexer": "ipython3",
   "version": "3.8.3"
  }
 },
 "nbformat": 4,
 "nbformat_minor": 4
}
