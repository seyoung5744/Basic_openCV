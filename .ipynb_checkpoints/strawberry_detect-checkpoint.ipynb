{
 "cells": [
  {
   "cell_type": "code",
   "execution_count": 1,
   "id": "returning-amateur",
   "metadata": {},
   "outputs": [
    {
     "name": "stdout",
     "output_type": "stream",
     "text": [
      "79\n"
     ]
    }
   ],
   "source": [
    "import cv2\n",
    "import copy\n",
    "\n",
    "c = cv2.CascadeClassifier('haar/strawberrydetector.xml')\n",
    "img = cv2.imread('img/s2.jpg')\n",
    "gray = cv2.cvtColor(img, cv2.COLOR_BGR2GRAY)\n",
    "straw = c.detectMultiScale(gray,\n",
    "            scaleFactor=1.1,\n",
    "            minNeighbors=5,\n",
    "            minSize=(40, 40)\n",
    "                           )\n",
    "# img2 = copy.deepcopy(img)\n",
    "img2 = img.copy()\n",
    "for (x, y, w, h) in straw:\n",
    "    print(x)\n",
    "    cv2.rectangle(img2, (x, y), (x + w, y + h), (255, 0, 0), 2)\n",
    "    res = img2\n",
    "\n",
    "if len(straw)==0:\n",
    "    print('no strawberry')\n",
    "else:\n",
    "    cv2.imshow('img', img)\n",
    "    cv2.imshow('res', img2)\n",
    "    cv2.waitKey(0)\n",
    "    cv2.destroyAllWindows()"
   ]
  }
 ],
 "metadata": {
  "kernelspec": {
   "display_name": "Python 3",
   "language": "python",
   "name": "python3"
  },
  "language_info": {
   "codemirror_mode": {
    "name": "ipython",
    "version": 3
   },
   "file_extension": ".py",
   "mimetype": "text/x-python",
   "name": "python",
   "nbconvert_exporter": "python",
   "pygments_lexer": "ipython3",
   "version": "3.8.5"
  }
 },
 "nbformat": 4,
 "nbformat_minor": 5
}
