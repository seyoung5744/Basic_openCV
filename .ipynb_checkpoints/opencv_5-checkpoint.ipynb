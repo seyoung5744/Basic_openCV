{
 "cells": [
  {
   "cell_type": "markdown",
   "metadata": {},
   "source": [
    "import cv2\n",
    "import numpy as np\n",
    "\n",
    "img1 = np.empty((200,300), dtype = np.uint8)\n",
    "img2 = np.zeros((200,300,3), dtype = np.uint8)\n",
    "cv2.imshow('img1',img1)\n",
    "\n",
    "k = cv2.waitKey(0) # 키보드 입력 대기. 입력한 키 값 반환\n",
    "print(k)\n",
    "cv2.destroyAllWindows() "
   ]
  }
 ],
 "metadata": {
  "kernelspec": {
   "display_name": "Python 3",
   "language": "python",
   "name": "python3"
  },
  "language_info": {
   "codemirror_mode": {
    "name": "ipython",
    "version": 3
   },
   "file_extension": ".py",
   "mimetype": "text/x-python",
   "name": "python",
   "nbconvert_exporter": "python",
   "pygments_lexer": "ipython3",
   "version": "3.8.3"
  }
 },
 "nbformat": 4,
 "nbformat_minor": 4
}
