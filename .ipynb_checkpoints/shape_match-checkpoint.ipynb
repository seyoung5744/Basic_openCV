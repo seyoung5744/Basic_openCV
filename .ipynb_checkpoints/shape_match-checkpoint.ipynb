{
 "cells": [
  {
   "cell_type": "code",
   "execution_count": 1,
   "metadata": {},
   "outputs": [],
   "source": [
    "import cv2\n",
    "import numpy as np\n",
    "\n",
    "imgs = []\n",
    "src = cv2.imread('img/polygon.bmp')\n",
    "src_gray = cv2.cvtColor(src, cv2.COLOR_BGR2GRAY)\n",
    "\n",
    "_, obj_bin = cv2.threshold(src_gray, 128, 255, cv2.THRESH_BINARY)\n",
    "obj_contours, _ = cv2.findContours(obj_bin, cv2.RETR_CCOMP, cv2.CHAIN_APPROX_SIMPLE)\n",
    "\n",
    "for c in range(len(obj_contours)):\n",
    "    area = cv2.contourArea(obj_contours[c])\n",
    "    if 500 < area < 50000:\n",
    "        x,y,w,h = cv2.boundingRect(obj_contours[c])\n",
    "        roi = src[y:y+h, x:x+w]\n",
    "        #dst = roi.copy()\n",
    "        dst = np.full((500,500,3), 255, np.uint8)\n",
    "        dst[100:100+h, 100:100+w] = roi\n",
    "        imgs.append(dst)\n",
    "        \n",
    "feature = cv2.KAZE_create() #특징점 추출 객체 생성   \n",
    "kp1, desc1 = feature.detectAndCompute(src_gray, None)#특징점 추출 및 디스크립트 계산\n",
    "dst1 = cv2.drawKeypoints(src, kp1, None,\n",
    "                         flags=cv2.DRAW_MATCHES_FLAGS_DRAW_RICH_KEYPOINTS)\n",
    "cv2.imshow('dst111', dst1)\n",
    "\n",
    "matcher = cv2.BFMatcher_create()\n",
    "\n",
    "for i in range(len(imgs)):\n",
    "    img_gray = cv2.cvtColor(imgs[i], cv2.COLOR_BGR2GRAY)\n",
    "    img_gray[img_gray[:,:]>150]=255\n",
    "    \n",
    "    kp2, desc2 = feature.detectAndCompute(img_gray, None)\n",
    "    dst2 = cv2.drawKeypoints(img_gray, kp2, None,\n",
    "                         flags=cv2.DRAW_MATCHES_FLAGS_DRAW_RICH_KEYPOINTS)\n",
    "    \n",
    "    matches = matcher.match(desc1, desc2)\n",
    "    matches = sorted(matches, key=lambda x: x.distance)\n",
    "    good_matches = matches[:10]\n",
    "    \n",
    "    dst0 = cv2.drawMatches(src, kp1, imgs[i], kp2, good_matches, None)\n",
    "    cv2.imshow('dst'+str(i), dst0)\n",
    "    \n",
    "cv2.waitKey()\n",
    "cv2.destroyAllWindows()"
   ]
  },
  {
   "cell_type": "raw",
   "metadata": {},
   "source": [
    "rect"
   ]
  },
  {
   "cell_type": "code",
   "execution_count": null,
   "metadata": {},
   "outputs": [],
   "source": []
  }
 ],
 "metadata": {
  "kernelspec": {
   "display_name": "Python 3",
   "language": "python",
   "name": "python3"
  },
  "language_info": {
   "codemirror_mode": {
    "name": "ipython",
    "version": 3
   },
   "file_extension": ".py",
   "mimetype": "text/x-python",
   "name": "python",
   "nbconvert_exporter": "python",
   "pygments_lexer": "ipython3",
   "version": "3.8.5"
  }
 },
 "nbformat": 4,
 "nbformat_minor": 4
}
