{
 "cells": [
  {
   "cell_type": "code",
   "execution_count": null,
   "metadata": {},
   "outputs": [],
   "source": [
    "import cv2\n",
    "import sys\n",
    "\n",
    "cap = cv2.VideoCapture(0)#카메라 오픈\n",
    "\n",
    "if not cap.isOpened():# cap.isOpen():카메라 정상오픈이면 True, 아니면 False\n",
    "    print('카메라 오픈 안됨')\n",
    "    sys.exit(0)\n",
    "\n",
    "cap.set(3, 300) #3 : 가로, 카메라 영상의 가로 길이를 300으로 변경\n",
    "cap.set(4, 200) #4 : 세로, 카메라 영상의 세로 길이를 200으로 변경\n",
    "\n",
    "print('영상 가로 길이:', cap.get(3)) #cap.get(3):카메라 영상의 가로 길이 반환\n",
    "print('영상 세로 길이:', cap.get(4)) #cap.get(4):카메라 영상의 세로 길이 반환\n",
    "\n",
    "#카메라 영상 읽기. ret:처리결과(True, False) / frame:읽은 영상\n",
    "ret, frame = cap.read() \n",
    "if ret:\n",
    "    cv2.imwrite('pic1.jpg', frame) #카메라 영상 저장\n",
    "    cv2.imshow('img', frame) #영상을 윈도우에 출력\n",
    "    cv2.waitKey(0)\n",
    "    cap.release()\n",
    "    cv2.destroyAllWindows()"
   ]
  },
  {
   "cell_type": "code",
   "execution_count": null,
   "metadata": {},
   "outputs": [],
   "source": [
    "import cv2\n",
    "cap = cv2.VideoCapture(0)#카메라 오픈\n",
    "\n",
    "cap.set(3, 300) \n",
    "cap.set(4, 200)\n",
    "while True:\n",
    "    ret, frame = cap.read() \n",
    "    if ret: #정상 읽기일 때만\n",
    "        cv2.imshow('img', frame) #영상을 윈도우에 출력\n",
    "    k = cv2.waitKey(1)\n",
    "    if k==27: #입력한 키가 esc이면\n",
    "        break\n",
    "cap.release()\n",
    "cv2.destroyAllWindows()"
   ]
  },
  {
   "cell_type": "code",
   "execution_count": null,
   "metadata": {},
   "outputs": [],
   "source": [
    "import cv2\n",
    "cap = cv2.VideoCapture('a.avi')#동영상일 땐 파일명으로 파일 오픈. \n",
    "while cap.isOpened():#동영상 파일이 정상 오픈이면\n",
    "    ret, frame = cap.read()#동영상에서 frame을 읽음\n",
    "    if not ret:\n",
    "        break\n",
    "    cv2.imshow('a.avi', frame)\t#읽은 frame을 윈도우에 출력\n",
    "    if cv2.waitKey(42) & 0xFF == ord('q'): #q입력 시 종료 \n",
    "        break\n",
    "cap.release()\n",
    "cv2.destroyAllWindows()"
   ]
  }
 ],
 "metadata": {
  "kernelspec": {
   "display_name": "Python 3",
   "language": "python",
   "name": "python3"
  },
  "language_info": {
   "codemirror_mode": {
    "name": "ipython",
    "version": 3
   },
   "file_extension": ".py",
   "mimetype": "text/x-python",
   "name": "python",
   "nbconvert_exporter": "python",
   "pygments_lexer": "ipython3",
   "version": "3.8.3"
  }
 },
 "nbformat": 4,
 "nbformat_minor": 4
}
